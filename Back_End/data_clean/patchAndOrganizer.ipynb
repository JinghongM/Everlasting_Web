{
 "cells": [
  {
   "cell_type": "markdown",
   "metadata": {},
   "source": [
    "## Patch and Organize data\n",
    "In this file, I defined few functions to pretreat the data. I handled data related to height, but the functions I defined can be easily used to deal with other data without making change(or few change in some function). You are welcome to download this Jupyter file and test it with data in our size sheet."
   ]
  },
  {
   "cell_type": "code",
   "execution_count": 1,
   "metadata": {
    "collapsed": true
   },
   "outputs": [],
   "source": [
    "import pandas as pd\n",
    "import numpy as np\n",
    "import matplotlib\n",
    "import matplotlib.pyplot as plt\n",
    "import codecs\n",
    "import csv\n",
    "import re\n",
    "import math"
   ]
  },
  {
   "cell_type": "code",
   "execution_count": 3,
   "metadata": {
    "collapsed": true
   },
   "outputs": [],
   "source": [
    "names_all = ['all_size','boy_size','girl_size','all_height','all_weight','boy_height',\n",
    "         'boy_weight','girl_height','girl_weight','boy_top_long_chest',\n",
    "         'boy_top_long_sleeve','boy_top_long_height','boy_top_long_sweep',\n",
    "         'boy_top_long_undefined','boy_top_short_chest','boy_top_short_sleeve',\n",
    "         'boy_top_short_height','boy_top_short_sweep','boy_bottom_pants_height',\n",
    "         'boy_bottom_pants_crotch','boy_bottom_pants_waist','boy_bottom_pants_hip',\n",
    "         'boy_bottom_pants_inseam','boy_bottom_pants_adjustable','boy_bottom_short_waist',\n",
    "         'boy_bottom_short_hip','boy_bottom_short_inseam','boy_bottom_short_adjustable',\n",
    "         'girl_top_long_chest','girl_top_long_sleeve','girl_top_long_height','girl_top_long_sweep',\n",
    "         'girl_top_short_chest','girl_top_short_sleeve','girl_top_short_height',\n",
    "         'girl_top_short_sweep','girl_bottom_long_waist','girl_bottom_long_hip','girl_bottom_long_inseam',\n",
    "         'girl_bottom_long_adjustable','girl_bottom_short_waist','girl_bottom_short_hip',\n",
    "         'girl_bottom_short_inseam','girl_bottom_short_adjustable','girl_dress_hollow_to_floor',\n",
    "         'girl_dress_bust', 'girl_dress_waist','girl_dress_hips','girl_dress_sleeve',\n",
    "         'girl_dress_inseam','girl_dress_height']"
   ]
  },
  {
   "cell_type": "markdown",
   "metadata": {},
   "source": [
    "### Load file as pandas dataframe, set column index as names_all"
   ]
  },
  {
   "cell_type": "code",
   "execution_count": 4,
   "metadata": {
    "collapsed": true
   },
   "outputs": [],
   "source": [
    "file = pd.read_csv('data_v9.csv', names = names_all)"
   ]
  },
  {
   "cell_type": "markdown",
   "metadata": {},
   "source": [
    "### show first 6 rows of data"
   ]
  },
  {
   "cell_type": "code",
   "execution_count": 5,
   "metadata": {
    "scrolled": true
   },
   "outputs": [
    {
     "data": {
      "text/html": [
       "<div>\n",
       "<style>\n",
       "    .dataframe thead tr:only-child th {\n",
       "        text-align: right;\n",
       "    }\n",
       "\n",
       "    .dataframe thead th {\n",
       "        text-align: left;\n",
       "    }\n",
       "\n",
       "    .dataframe tbody tr th {\n",
       "        vertical-align: top;\n",
       "    }\n",
       "</style>\n",
       "<table border=\"1\" class=\"dataframe\">\n",
       "  <thead>\n",
       "    <tr style=\"text-align: right;\">\n",
       "      <th></th>\n",
       "      <th>all_size</th>\n",
       "      <th>boy_size</th>\n",
       "      <th>girl_size</th>\n",
       "      <th>all_height</th>\n",
       "      <th>all_weight</th>\n",
       "      <th>boy_height</th>\n",
       "      <th>boy_weight</th>\n",
       "      <th>girl_height</th>\n",
       "      <th>girl_weight</th>\n",
       "      <th>boy_top_long_chest</th>\n",
       "      <th>...</th>\n",
       "      <th>girl_bottom_short_hip</th>\n",
       "      <th>girl_bottom_short_inseam</th>\n",
       "      <th>girl_bottom_short_adjustable</th>\n",
       "      <th>girl_dress_hollow_to_floor</th>\n",
       "      <th>girl_dress_bust</th>\n",
       "      <th>girl_dress_waist</th>\n",
       "      <th>girl_dress_hips</th>\n",
       "      <th>girl_dress_sleeve</th>\n",
       "      <th>girl_dress_inseam</th>\n",
       "      <th>girl_dress_height</th>\n",
       "    </tr>\n",
       "  </thead>\n",
       "  <tbody>\n",
       "    <tr>\n",
       "      <th>NaN</th>\n",
       "      <td>Sizes for all</td>\n",
       "      <td>Boy size</td>\n",
       "      <td>Girl size</td>\n",
       "      <td>All</td>\n",
       "      <td>NaN</td>\n",
       "      <td>Boy</td>\n",
       "      <td>NaN</td>\n",
       "      <td>Girl</td>\n",
       "      <td>NaN</td>\n",
       "      <td>boy Top (long sleeve)</td>\n",
       "      <td>...</td>\n",
       "      <td>NaN</td>\n",
       "      <td>NaN</td>\n",
       "      <td>NaN</td>\n",
       "      <td>Girl Dress</td>\n",
       "      <td>NaN</td>\n",
       "      <td>NaN</td>\n",
       "      <td>NaN</td>\n",
       "      <td>NaN</td>\n",
       "      <td>NaN</td>\n",
       "      <td>NaN</td>\n",
       "    </tr>\n",
       "    <tr>\n",
       "      <th>Brand</th>\n",
       "      <td>NaN</td>\n",
       "      <td>NaN</td>\n",
       "      <td>NaN</td>\n",
       "      <td>Height</td>\n",
       "      <td>Weight</td>\n",
       "      <td>Height</td>\n",
       "      <td>Weight</td>\n",
       "      <td>Height</td>\n",
       "      <td>Weight</td>\n",
       "      <td>Chest</td>\n",
       "      <td>...</td>\n",
       "      <td>Hip</td>\n",
       "      <td>Inseam</td>\n",
       "      <td>Adjustable Y/N</td>\n",
       "      <td>Hollow to Floor</td>\n",
       "      <td>Bust</td>\n",
       "      <td>Waist</td>\n",
       "      <td>Hips</td>\n",
       "      <td>sleeve</td>\n",
       "      <td>Inseam</td>\n",
       "      <td>height</td>\n",
       "    </tr>\n",
       "    <tr>\n",
       "      <th>#sen</th>\n",
       "      <td>6-9mo</td>\n",
       "      <td>NaN</td>\n",
       "      <td>NaN</td>\n",
       "      <td>NaN</td>\n",
       "      <td>NaN</td>\n",
       "      <td>NaN</td>\n",
       "      <td>NaN</td>\n",
       "      <td>NaN</td>\n",
       "      <td>NaN</td>\n",
       "      <td>NaN</td>\n",
       "      <td>...</td>\n",
       "      <td>NaN</td>\n",
       "      <td>NaN</td>\n",
       "      <td>NaN</td>\n",
       "      <td>NaN</td>\n",
       "      <td>NaN</td>\n",
       "      <td>NaN</td>\n",
       "      <td>NaN</td>\n",
       "      <td>NaN</td>\n",
       "      <td>NaN</td>\n",
       "      <td>NaN</td>\n",
       "    </tr>\n",
       "    <tr>\n",
       "      <th>#sen</th>\n",
       "      <td>9-12mo</td>\n",
       "      <td>NaN</td>\n",
       "      <td>NaN</td>\n",
       "      <td>NaN</td>\n",
       "      <td>NaN</td>\n",
       "      <td>NaN</td>\n",
       "      <td>NaN</td>\n",
       "      <td>NaN</td>\n",
       "      <td>NaN</td>\n",
       "      <td>NaN</td>\n",
       "      <td>...</td>\n",
       "      <td>NaN</td>\n",
       "      <td>NaN</td>\n",
       "      <td>NaN</td>\n",
       "      <td>NaN</td>\n",
       "      <td>NaN</td>\n",
       "      <td>NaN</td>\n",
       "      <td>NaN</td>\n",
       "      <td>NaN</td>\n",
       "      <td>NaN</td>\n",
       "      <td>NaN</td>\n",
       "    </tr>\n",
       "    <tr>\n",
       "      <th>#sen</th>\n",
       "      <td>12-18mo</td>\n",
       "      <td>NaN</td>\n",
       "      <td>NaN</td>\n",
       "      <td>NaN</td>\n",
       "      <td>NaN</td>\n",
       "      <td>NaN</td>\n",
       "      <td>NaN</td>\n",
       "      <td>NaN</td>\n",
       "      <td>NaN</td>\n",
       "      <td>NaN</td>\n",
       "      <td>...</td>\n",
       "      <td>NaN</td>\n",
       "      <td>NaN</td>\n",
       "      <td>NaN</td>\n",
       "      <td>NaN</td>\n",
       "      <td>NaN</td>\n",
       "      <td>NaN</td>\n",
       "      <td>NaN</td>\n",
       "      <td>NaN</td>\n",
       "      <td>NaN</td>\n",
       "      <td>NaN</td>\n",
       "    </tr>\n",
       "    <tr>\n",
       "      <th>#sen</th>\n",
       "      <td>18-24mo</td>\n",
       "      <td>NaN</td>\n",
       "      <td>NaN</td>\n",
       "      <td>NaN</td>\n",
       "      <td>NaN</td>\n",
       "      <td>NaN</td>\n",
       "      <td>NaN</td>\n",
       "      <td>NaN</td>\n",
       "      <td>NaN</td>\n",
       "      <td>NaN</td>\n",
       "      <td>...</td>\n",
       "      <td>NaN</td>\n",
       "      <td>NaN</td>\n",
       "      <td>NaN</td>\n",
       "      <td>NaN</td>\n",
       "      <td>NaN</td>\n",
       "      <td>NaN</td>\n",
       "      <td>NaN</td>\n",
       "      <td>NaN</td>\n",
       "      <td>NaN</td>\n",
       "      <td>NaN</td>\n",
       "    </tr>\n",
       "  </tbody>\n",
       "</table>\n",
       "<p>6 rows × 51 columns</p>\n",
       "</div>"
      ],
      "text/plain": [
       "            all_size  boy_size  girl_size all_height all_weight boy_height  \\\n",
       "NaN    Sizes for all  Boy size  Girl size        All        NaN        Boy   \n",
       "Brand            NaN       NaN        NaN     Height     Weight     Height   \n",
       "#sen           6-9mo       NaN        NaN        NaN        NaN        NaN   \n",
       "#sen          9-12mo       NaN        NaN        NaN        NaN        NaN   \n",
       "#sen         12-18mo       NaN        NaN        NaN        NaN        NaN   \n",
       "#sen         18-24mo       NaN        NaN        NaN        NaN        NaN   \n",
       "\n",
       "      boy_weight girl_height girl_weight     boy_top_long_chest  \\\n",
       "NaN          NaN        Girl         NaN  boy Top (long sleeve)   \n",
       "Brand     Weight      Height      Weight                  Chest   \n",
       "#sen         NaN         NaN         NaN                    NaN   \n",
       "#sen         NaN         NaN         NaN                    NaN   \n",
       "#sen         NaN         NaN         NaN                    NaN   \n",
       "#sen         NaN         NaN         NaN                    NaN   \n",
       "\n",
       "             ...        girl_bottom_short_hip girl_bottom_short_inseam  \\\n",
       "NaN          ...                          NaN                      NaN   \n",
       "Brand        ...                          Hip                   Inseam   \n",
       "#sen         ...                          NaN                      NaN   \n",
       "#sen         ...                          NaN                      NaN   \n",
       "#sen         ...                          NaN                      NaN   \n",
       "#sen         ...                          NaN                      NaN   \n",
       "\n",
       "      girl_bottom_short_adjustable  girl_dress_hollow_to_floor  \\\n",
       "NaN                            NaN                  Girl Dress   \n",
       "Brand               Adjustable Y/N             Hollow to Floor   \n",
       "#sen                           NaN                         NaN   \n",
       "#sen                           NaN                         NaN   \n",
       "#sen                           NaN                         NaN   \n",
       "#sen                           NaN                         NaN   \n",
       "\n",
       "      girl_dress_bust girl_dress_waist girl_dress_hips girl_dress_sleeve  \\\n",
       "NaN               NaN              NaN             NaN               NaN   \n",
       "Brand            Bust            Waist            Hips            sleeve   \n",
       "#sen              NaN              NaN             NaN               NaN   \n",
       "#sen              NaN              NaN             NaN               NaN   \n",
       "#sen              NaN              NaN             NaN               NaN   \n",
       "#sen              NaN              NaN             NaN               NaN   \n",
       "\n",
       "      girl_dress_inseam girl_dress_height  \n",
       "NaN                 NaN               NaN  \n",
       "Brand            Inseam            height  \n",
       "#sen                NaN               NaN  \n",
       "#sen                NaN               NaN  \n",
       "#sen                NaN               NaN  \n",
       "#sen                NaN               NaN  \n",
       "\n",
       "[6 rows x 51 columns]"
      ]
     },
     "execution_count": 5,
     "metadata": {},
     "output_type": "execute_result"
    }
   ],
   "source": [
    "file.head(6)"
   ]
  },
  {
   "cell_type": "markdown",
   "metadata": {},
   "source": [
    "### The first two rows are not well organized. Remove them, and add two more rows: boy_actual_height and girl_actual_height"
   ]
  },
  {
   "cell_type": "code",
   "execution_count": 20,
   "metadata": {},
   "outputs": [
    {
     "name": "stderr",
     "output_type": "stream",
     "text": [
      "/usr/local/lib/python3.5/dist-packages/ipykernel_launcher.py:2: SettingWithCopyWarning: \n",
      "A value is trying to be set on a copy of a slice from a DataFrame.\n",
      "Try using .loc[row_indexer,col_indexer] = value instead\n",
      "\n",
      "See the caveats in the documentation: http://pandas.pydata.org/pandas-docs/stable/indexing.html#indexing-view-versus-copy\n",
      "  \n",
      "/usr/local/lib/python3.5/dist-packages/ipykernel_launcher.py:3: SettingWithCopyWarning: \n",
      "A value is trying to be set on a copy of a slice from a DataFrame.\n",
      "Try using .loc[row_indexer,col_indexer] = value instead\n",
      "\n",
      "See the caveats in the documentation: http://pandas.pydata.org/pandas-docs/stable/indexing.html#indexing-view-versus-copy\n",
      "  This is separate from the ipykernel package so we can avoid doing imports until\n"
     ]
    }
   ],
   "source": [
    "file = file.iloc[2:]\n",
    "file[\"boy_actual_height\"] = np.nan\n",
    "file[\"girl_actual_height\"] = np.nan"
   ]
  },
  {
   "cell_type": "code",
   "execution_count": 47,
   "metadata": {
    "collapsed": true
   },
   "outputs": [],
   "source": [
    "inches = ['\\\"', 'inches', '\\'']\n",
    "cm = ['cm', 'CM']\n",
    "kg = ['kg', 'KG']\n",
    "lbs = ['lbs', 'LBS']"
   ]
  },
  {
   "cell_type": "markdown",
   "metadata": {},
   "source": [
    "### Define checkHeightUnit function, which would return the unit of the data or None if the data is pure number."
   ]
  },
  {
   "cell_type": "code",
   "execution_count": 7,
   "metadata": {
    "collapsed": true
   },
   "outputs": [],
   "source": [
    "def checkHeightUnit(data):\n",
    "    unit = None\n",
    "    for item in inches:\n",
    "        if item in data:\n",
    "            unit = 'inches'\n",
    "            return unit\n",
    "    for item in cm:\n",
    "        if item in data:\n",
    "            unit = 'cm'\n",
    "            return unit\n",
    "    return None"
   ]
  },
  {
   "cell_type": "markdown",
   "metadata": {},
   "source": [
    "### Define column_organizer. This function will get the unit from data, (or keep the unit if the data is pure number) and uniform the format of data."
   ]
  },
  {
   "cell_type": "code",
   "execution_count": 30,
   "metadata": {
    "collapsed": true
   },
   "outputs": [],
   "source": [
    "def column_organizer(column):\n",
    "    unit = None\n",
    "    for i in range(len(column)):\n",
    "        if type(column[i]) is str or math.isnan(column[i]) is False:\n",
    "            data = str(column[i])\n",
    "            checkUnit = checkHeightUnit(data)\n",
    "            if checkUnit is not None:\n",
    "                unit = checkUnit\n",
    "            nums = re.findall(r'\\d+\\.?\\d+', data)\n",
    "            if len(nums) is 1:\n",
    "                column[i] = nums[0] + unit\n",
    "            else:\n",
    "                column[i] = nums[0] + '-' + nums[1] + unit               "
   ]
  },
  {
   "cell_type": "markdown",
   "metadata": {},
   "source": [
    "### In order to simplify the process of analysis data, we need to complete the form using data in different columns. This patch_data is use to complete column using another."
   ]
  },
  {
   "cell_type": "code",
   "execution_count": 40,
   "metadata": {
    "collapsed": true
   },
   "outputs": [],
   "source": [
    "def patch_data(column1, column2):\n",
    "    for i in range(len(column1)):\n",
    "        if type(column1[i]) is not str and math.isnan(column1[i]) is True:\n",
    "            column1[i] = column2[i]"
   ]
  },
  {
   "cell_type": "markdown",
   "metadata": {},
   "source": [
    "### Get data related to height"
   ]
  },
  {
   "cell_type": "code",
   "execution_count": 52,
   "metadata": {
    "collapsed": true
   },
   "outputs": [],
   "source": [
    "all_height = file['all_height']\n",
    "boy_height = file['boy_height']\n",
    "girl_height = file['girl_height']\n",
    "boy_actual_height = file['boy_actual_height'].values\n",
    "girl_actual_height = file['girl_actual_height'].values\n",
    "boy_top_long_height = file['boy_top_long_height'].values\n",
    "boy_top_short_height = file['boy_top_short_height'].values\n",
    "boy_bottom_pants_height = file['boy_bottom_pants_height'].values\n",
    "girl_top_long_height = file['girl_top_long_height'].values\n",
    "girl_top_short_height = file['girl_top_short_height'].values\n",
    "girl_dress_height = file['girl_dress_height'].values"
   ]
  },
  {
   "cell_type": "markdown",
   "metadata": {},
   "source": [
    "### Add data to boy_height from all_height if boy_height is empty.\n",
    "#### In the steps below, I used pandas dataframe object. However, reset data using dataframe object cost lots of time. I think it would be better if we using array to edit data, than transform array to dataframe. "
   ]
  },
  {
   "cell_type": "code",
   "execution_count": 42,
   "metadata": {},
   "outputs": [
    {
     "name": "stderr",
     "output_type": "stream",
     "text": [
      "/usr/local/lib/python3.5/dist-packages/ipykernel_launcher.py:4: SettingWithCopyWarning: \n",
      "A value is trying to be set on a copy of a slice from a DataFrame\n",
      "\n",
      "See the caveats in the documentation: http://pandas.pydata.org/pandas-docs/stable/indexing.html#indexing-view-versus-copy\n",
      "  after removing the cwd from sys.path.\n",
      "/usr/local/lib/python3.5/dist-packages/ipykernel_launcher.py:1: SettingWithCopyWarning: \n",
      "A value is trying to be set on a copy of a slice from a DataFrame\n",
      "\n",
      "See the caveats in the documentation: http://pandas.pydata.org/pandas-docs/stable/indexing.html#indexing-view-versus-copy\n",
      "  \"\"\"Entry point for launching an IPython kernel.\n"
     ]
    }
   ],
   "source": [
    "patch_data(boy_height, all_height)"
   ]
  },
  {
   "cell_type": "markdown",
   "metadata": {},
   "source": [
    "### Add data to boy_height from boy_top_long_height if boy_height is empty at the same row."
   ]
  },
  {
   "cell_type": "code",
   "execution_count": 43,
   "metadata": {
    "scrolled": true
   },
   "outputs": [
    {
     "name": "stderr",
     "output_type": "stream",
     "text": [
      "/usr/local/lib/python3.5/dist-packages/ipykernel_launcher.py:4: SettingWithCopyWarning: \n",
      "A value is trying to be set on a copy of a slice from a DataFrame\n",
      "\n",
      "See the caveats in the documentation: http://pandas.pydata.org/pandas-docs/stable/indexing.html#indexing-view-versus-copy\n",
      "  after removing the cwd from sys.path.\n",
      "/usr/local/lib/python3.5/dist-packages/ipykernel_launcher.py:1: SettingWithCopyWarning: \n",
      "A value is trying to be set on a copy of a slice from a DataFrame\n",
      "\n",
      "See the caveats in the documentation: http://pandas.pydata.org/pandas-docs/stable/indexing.html#indexing-view-versus-copy\n",
      "  \"\"\"Entry point for launching an IPython kernel.\n"
     ]
    }
   ],
   "source": [
    "patch_data(boy_height, boy_top_long_height)"
   ]
  },
  {
   "cell_type": "markdown",
   "metadata": {},
   "source": [
    "### Add data to boy_height from boy_top_shor_height if boy_height is empty at the same row."
   ]
  },
  {
   "cell_type": "code",
   "execution_count": 45,
   "metadata": {
    "scrolled": true
   },
   "outputs": [
    {
     "name": "stderr",
     "output_type": "stream",
     "text": [
      "/usr/local/lib/python3.5/dist-packages/ipykernel_launcher.py:4: SettingWithCopyWarning: \n",
      "A value is trying to be set on a copy of a slice from a DataFrame\n",
      "\n",
      "See the caveats in the documentation: http://pandas.pydata.org/pandas-docs/stable/indexing.html#indexing-view-versus-copy\n",
      "  after removing the cwd from sys.path.\n",
      "/usr/local/lib/python3.5/dist-packages/ipykernel_launcher.py:1: SettingWithCopyWarning: \n",
      "A value is trying to be set on a copy of a slice from a DataFrame\n",
      "\n",
      "See the caveats in the documentation: http://pandas.pydata.org/pandas-docs/stable/indexing.html#indexing-view-versus-copy\n",
      "  \"\"\"Entry point for launching an IPython kernel.\n"
     ]
    }
   ],
   "source": [
    "patch_data(boy_height, boy_top_short_height)"
   ]
  },
  {
   "cell_type": "markdown",
   "metadata": {},
   "source": [
    "### Using column_organizer to unify the unit in boy_height"
   ]
  },
  {
   "cell_type": "code",
   "execution_count": 48,
   "metadata": {
    "scrolled": true
   },
   "outputs": [
    {
     "name": "stderr",
     "output_type": "stream",
     "text": [
      "/usr/local/lib/python3.5/dist-packages/ipykernel_launcher.py:11: SettingWithCopyWarning: \n",
      "A value is trying to be set on a copy of a slice from a DataFrame\n",
      "\n",
      "See the caveats in the documentation: http://pandas.pydata.org/pandas-docs/stable/indexing.html#indexing-view-versus-copy\n",
      "  # This is added back by InteractiveShellApp.init_path()\n",
      "/usr/local/lib/python3.5/dist-packages/ipykernel_launcher.py:1: SettingWithCopyWarning: \n",
      "A value is trying to be set on a copy of a slice from a DataFrame\n",
      "\n",
      "See the caveats in the documentation: http://pandas.pydata.org/pandas-docs/stable/indexing.html#indexing-view-versus-copy\n",
      "  \"\"\"Entry point for launching an IPython kernel.\n",
      "/usr/local/lib/python3.5/dist-packages/ipykernel_launcher.py:13: SettingWithCopyWarning: \n",
      "A value is trying to be set on a copy of a slice from a DataFrame\n",
      "\n",
      "See the caveats in the documentation: http://pandas.pydata.org/pandas-docs/stable/indexing.html#indexing-view-versus-copy\n",
      "  del sys.path[0]\n"
     ]
    }
   ],
   "source": [
    "column_organizer(boy_height)"
   ]
  },
  {
   "cell_type": "markdown",
   "metadata": {},
   "source": [
    "### Store data in boy_height to csv file"
   ]
  },
  {
   "cell_type": "code",
   "execution_count": 50,
   "metadata": {
    "collapsed": true
   },
   "outputs": [],
   "source": [
    "boy_height.to_csv('boy_height.csv')"
   ]
  },
  {
   "cell_type": "markdown",
   "metadata": {},
   "source": [
    "### Below is the same process handling the girl_height"
   ]
  },
  {
   "cell_type": "code",
   "execution_count": 53,
   "metadata": {},
   "outputs": [
    {
     "name": "stderr",
     "output_type": "stream",
     "text": [
      "/usr/local/lib/python3.5/dist-packages/ipykernel_launcher.py:4: SettingWithCopyWarning: \n",
      "A value is trying to be set on a copy of a slice from a DataFrame\n",
      "\n",
      "See the caveats in the documentation: http://pandas.pydata.org/pandas-docs/stable/indexing.html#indexing-view-versus-copy\n",
      "  after removing the cwd from sys.path.\n",
      "/usr/local/lib/python3.5/dist-packages/ipykernel_launcher.py:1: SettingWithCopyWarning: \n",
      "A value is trying to be set on a copy of a slice from a DataFrame\n",
      "\n",
      "See the caveats in the documentation: http://pandas.pydata.org/pandas-docs/stable/indexing.html#indexing-view-versus-copy\n",
      "  \"\"\"Entry point for launching an IPython kernel.\n"
     ]
    }
   ],
   "source": [
    "patch_data(girl_height, all_height)"
   ]
  },
  {
   "cell_type": "code",
   "execution_count": 54,
   "metadata": {},
   "outputs": [
    {
     "name": "stderr",
     "output_type": "stream",
     "text": [
      "/usr/local/lib/python3.5/dist-packages/ipykernel_launcher.py:4: SettingWithCopyWarning: \n",
      "A value is trying to be set on a copy of a slice from a DataFrame\n",
      "\n",
      "See the caveats in the documentation: http://pandas.pydata.org/pandas-docs/stable/indexing.html#indexing-view-versus-copy\n",
      "  after removing the cwd from sys.path.\n",
      "/usr/local/lib/python3.5/dist-packages/ipykernel_launcher.py:1: SettingWithCopyWarning: \n",
      "A value is trying to be set on a copy of a slice from a DataFrame\n",
      "\n",
      "See the caveats in the documentation: http://pandas.pydata.org/pandas-docs/stable/indexing.html#indexing-view-versus-copy\n",
      "  \"\"\"Entry point for launching an IPython kernel.\n"
     ]
    }
   ],
   "source": [
    "patch_data(girl_height, girl_top_long_height)"
   ]
  },
  {
   "cell_type": "code",
   "execution_count": 55,
   "metadata": {},
   "outputs": [
    {
     "name": "stderr",
     "output_type": "stream",
     "text": [
      "/usr/local/lib/python3.5/dist-packages/ipykernel_launcher.py:4: SettingWithCopyWarning: \n",
      "A value is trying to be set on a copy of a slice from a DataFrame\n",
      "\n",
      "See the caveats in the documentation: http://pandas.pydata.org/pandas-docs/stable/indexing.html#indexing-view-versus-copy\n",
      "  after removing the cwd from sys.path.\n",
      "/usr/local/lib/python3.5/dist-packages/ipykernel_launcher.py:1: SettingWithCopyWarning: \n",
      "A value is trying to be set on a copy of a slice from a DataFrame\n",
      "\n",
      "See the caveats in the documentation: http://pandas.pydata.org/pandas-docs/stable/indexing.html#indexing-view-versus-copy\n",
      "  \"\"\"Entry point for launching an IPython kernel.\n"
     ]
    }
   ],
   "source": [
    "patch_data(girl_height, girl_top_short_height)"
   ]
  },
  {
   "cell_type": "code",
   "execution_count": 56,
   "metadata": {},
   "outputs": [
    {
     "name": "stderr",
     "output_type": "stream",
     "text": [
      "/usr/local/lib/python3.5/dist-packages/ipykernel_launcher.py:4: SettingWithCopyWarning: \n",
      "A value is trying to be set on a copy of a slice from a DataFrame\n",
      "\n",
      "See the caveats in the documentation: http://pandas.pydata.org/pandas-docs/stable/indexing.html#indexing-view-versus-copy\n",
      "  after removing the cwd from sys.path.\n",
      "/usr/local/lib/python3.5/dist-packages/ipykernel_launcher.py:1: SettingWithCopyWarning: \n",
      "A value is trying to be set on a copy of a slice from a DataFrame\n",
      "\n",
      "See the caveats in the documentation: http://pandas.pydata.org/pandas-docs/stable/indexing.html#indexing-view-versus-copy\n",
      "  \"\"\"Entry point for launching an IPython kernel.\n"
     ]
    }
   ],
   "source": [
    "patch_data(girl_height, girl_dress_height)"
   ]
  },
  {
   "cell_type": "code",
   "execution_count": 57,
   "metadata": {
    "scrolled": true
   },
   "outputs": [
    {
     "name": "stderr",
     "output_type": "stream",
     "text": [
      "/usr/local/lib/python3.5/dist-packages/ipykernel_launcher.py:11: SettingWithCopyWarning: \n",
      "A value is trying to be set on a copy of a slice from a DataFrame\n",
      "\n",
      "See the caveats in the documentation: http://pandas.pydata.org/pandas-docs/stable/indexing.html#indexing-view-versus-copy\n",
      "  # This is added back by InteractiveShellApp.init_path()\n",
      "/usr/local/lib/python3.5/dist-packages/ipykernel_launcher.py:1: SettingWithCopyWarning: \n",
      "A value is trying to be set on a copy of a slice from a DataFrame\n",
      "\n",
      "See the caveats in the documentation: http://pandas.pydata.org/pandas-docs/stable/indexing.html#indexing-view-versus-copy\n",
      "  \"\"\"Entry point for launching an IPython kernel.\n",
      "/usr/local/lib/python3.5/dist-packages/ipykernel_launcher.py:13: SettingWithCopyWarning: \n",
      "A value is trying to be set on a copy of a slice from a DataFrame\n",
      "\n",
      "See the caveats in the documentation: http://pandas.pydata.org/pandas-docs/stable/indexing.html#indexing-view-versus-copy\n",
      "  del sys.path[0]\n"
     ]
    }
   ],
   "source": [
    "column_organizer(girl_height)"
   ]
  },
  {
   "cell_type": "markdown",
   "metadata": {},
   "source": [
    "### Copy the data to original table."
   ]
  },
  {
   "cell_type": "code",
   "execution_count": 58,
   "metadata": {},
   "outputs": [
    {
     "name": "stderr",
     "output_type": "stream",
     "text": [
      "/usr/local/lib/python3.5/dist-packages/ipykernel_launcher.py:1: SettingWithCopyWarning: \n",
      "A value is trying to be set on a copy of a slice from a DataFrame.\n",
      "Try using .loc[row_indexer,col_indexer] = value instead\n",
      "\n",
      "See the caveats in the documentation: http://pandas.pydata.org/pandas-docs/stable/indexing.html#indexing-view-versus-copy\n",
      "  \"\"\"Entry point for launching an IPython kernel.\n",
      "/usr/local/lib/python3.5/dist-packages/ipykernel_launcher.py:2: SettingWithCopyWarning: \n",
      "A value is trying to be set on a copy of a slice from a DataFrame.\n",
      "Try using .loc[row_indexer,col_indexer] = value instead\n",
      "\n",
      "See the caveats in the documentation: http://pandas.pydata.org/pandas-docs/stable/indexing.html#indexing-view-versus-copy\n",
      "  \n"
     ]
    }
   ],
   "source": [
    "file['boy_height'] = boy_height\n",
    "file['girl_height'] = girl_height"
   ]
  },
  {
   "cell_type": "markdown",
   "metadata": {},
   "source": [
    "### Stored the table to half_parsed_v100.csv"
   ]
  },
  {
   "cell_type": "code",
   "execution_count": 59,
   "metadata": {
    "collapsed": true
   },
   "outputs": [],
   "source": [
    "file.to_csv('half_parsed_v100.csv')"
   ]
  }
 ],
 "metadata": {
  "kernelspec": {
   "display_name": "Python 3",
   "language": "python",
   "name": "python3"
  },
  "language_info": {
   "codemirror_mode": {
    "name": "ipython",
    "version": 3
   },
   "file_extension": ".py",
   "mimetype": "text/x-python",
   "name": "python",
   "nbconvert_exporter": "python",
   "pygments_lexer": "ipython3",
   "version": "3.5.2"
  }
 },
 "nbformat": 4,
 "nbformat_minor": 2
}
